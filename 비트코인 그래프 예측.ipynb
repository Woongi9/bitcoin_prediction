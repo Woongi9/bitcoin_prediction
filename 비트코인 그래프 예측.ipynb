{
 "cells": [
  {
   "cell_type": "code",
   "execution_count": 1,
   "id": "646e65bb",
   "metadata": {},
   "outputs": [],
   "source": [
    "import numpy as np\n",
    "import pandas as pd\n",
    "import math\n",
    "import os\n",
    "import matplotlib.pyplot as plt\n",
    "\n",
    "\n",
    "import tensorflow as tf\n",
    "from tensorflow import keras\n",
    "from tensorflow.keras.models import Sequential\n",
    "from tensorflow.keras.layers import Dense, LSTM, Reshape, GRU\n",
    "from keras.callbacks import EarlyStopping, ModelCheckpoint\n",
    "\n",
    "from sklearn.preprocessing import MinMaxScaler\n",
    "from sklearn.model_selection import train_test_split"
   ]
  },
  {
   "cell_type": "code",
   "execution_count": 2,
   "id": "766719a0",
   "metadata": {},
   "outputs": [],
   "source": [
    "# from tensorflow.keras.models import load_model\n",
    "# model = load_model('model_0713_10000_epochs200.h5')"
   ]
  },
  {
   "cell_type": "code",
   "execution_count": 3,
   "id": "194ae502",
   "metadata": {},
   "outputs": [],
   "source": [
    "import pyupbit\n",
    "\n",
    "#코인 종류 검사\n",
    "tickers = pyupbit.get_tickers(fiat=\"KRW\")\n",
    "\n",
    "#현재 가격 확인\n",
    "price = pyupbit.get_current_price(\"KRW-BTC\")\n",
    "\n",
    "#이전 가격 변동 확인\n",
    "bit_history = pyupbit.get_ohlcv(\"KRW-BTC\", interval=\"minute5\", count=50000)"
   ]
  },
  {
   "cell_type": "code",
   "execution_count": 4,
   "id": "59ee54e0",
   "metadata": {
    "scrolled": false
   },
   "outputs": [],
   "source": [
    "#저장된 데이터 불러오기\n",
    "\n",
    "# bit_history = pd.read_csv(\"data/0730_50000.csv\")\n",
    "# print(bit_history)\n",
    "\n",
    "#데이터 저장\n",
    "import csv\n",
    "\n",
    "bit_history.to_csv(\"data/0730_50000.csv\")"
   ]
  },
  {
   "cell_type": "code",
   "execution_count": 5,
   "id": "d8f441ab",
   "metadata": {},
   "outputs": [
    {
     "name": "stdout",
     "output_type": "stream",
     "text": [
      "           open      high       low    volume     value\n",
      "0      0.319142  0.316356  0.321033  0.037214  0.033930\n",
      "1      0.319892  0.323832  0.322956  0.070930  0.065087\n",
      "2      0.324102  0.322639  0.324273  0.047871  0.043862\n",
      "3      0.321330  0.321780  0.324378  0.029778  0.027247\n",
      "4      0.325019  0.321508  0.325361  0.021213  0.019434\n",
      "...         ...       ...       ...       ...       ...\n",
      "49995  0.220159  0.218764  0.222956  0.077045  0.063576\n",
      "49996  0.222514  0.218764  0.221618  0.078757  0.064887\n",
      "49997  0.218826  0.219393  0.220364  0.104530  0.086094\n",
      "49998  0.223389  0.221005  0.224232  0.050219  0.041543\n",
      "49999  0.223493  0.220021  0.224754  0.024740  0.020451\n",
      "\n",
      "[50000 rows x 5 columns]\n"
     ]
    }
   ],
   "source": [
    "scaler = MinMaxScaler()\n",
    "scale_cols = ['open', 'high', 'low', 'volume', 'value']\n",
    "scaled = scaler.fit_transform(bit_history[scale_cols])\n",
    "\n",
    "df = pd.DataFrame(scaled, columns=scale_cols)\n",
    "\n",
    "print(df)"
   ]
  },
  {
   "cell_type": "code",
   "execution_count": 6,
   "id": "68eafb8e",
   "metadata": {},
   "outputs": [],
   "source": [
    "# train = df_scaled[:45000]\n",
    "# test = df_scaled[45000:]\n",
    "\n",
    "# # train.head()\n",
    "# train.tail()\n",
    "# # test.head()\n",
    "\n",
    "x_train, x_test, y_train, y_test = train_test_split(df.drop('open', 1), df['open'], test_size=0.2, random_state=0, shuffle=False)"
   ]
  },
  {
   "cell_type": "code",
   "execution_count": 7,
   "id": "bba8fd7a",
   "metadata": {},
   "outputs": [
    {
     "data": {
      "text/plain": [
       "((40000, 4), (40000,))"
      ]
     },
     "execution_count": 7,
     "metadata": {},
     "output_type": "execute_result"
    }
   ],
   "source": [
    "x_train.shape, y_train.shape\n"
   ]
  },
  {
   "cell_type": "code",
   "execution_count": 8,
   "id": "2e025ff9",
   "metadata": {},
   "outputs": [
    {
     "data": {
      "text/plain": [
       "((10000, 4), (10000,))"
      ]
     },
     "execution_count": 8,
     "metadata": {},
     "output_type": "execute_result"
    }
   ],
   "source": [
    "x_test.shape, y_test.shape"
   ]
  },
  {
   "cell_type": "code",
   "execution_count": 9,
   "id": "a2c41d6e",
   "metadata": {},
   "outputs": [
    {
     "data": {
      "text/html": [
       "<div>\n",
       "<style scoped>\n",
       "    .dataframe tbody tr th:only-of-type {\n",
       "        vertical-align: middle;\n",
       "    }\n",
       "\n",
       "    .dataframe tbody tr th {\n",
       "        vertical-align: top;\n",
       "    }\n",
       "\n",
       "    .dataframe thead th {\n",
       "        text-align: right;\n",
       "    }\n",
       "</style>\n",
       "<table border=\"1\" class=\"dataframe\">\n",
       "  <thead>\n",
       "    <tr style=\"text-align: right;\">\n",
       "      <th></th>\n",
       "      <th>high</th>\n",
       "      <th>low</th>\n",
       "      <th>volume</th>\n",
       "      <th>value</th>\n",
       "      <th>open</th>\n",
       "    </tr>\n",
       "  </thead>\n",
       "  <tbody>\n",
       "    <tr>\n",
       "      <th>0</th>\n",
       "      <td>0.316356</td>\n",
       "      <td>0.321033</td>\n",
       "      <td>0.037214</td>\n",
       "      <td>0.033930</td>\n",
       "      <td>0.319142</td>\n",
       "    </tr>\n",
       "    <tr>\n",
       "      <th>1</th>\n",
       "      <td>0.323832</td>\n",
       "      <td>0.322956</td>\n",
       "      <td>0.070930</td>\n",
       "      <td>0.065087</td>\n",
       "      <td>0.319892</td>\n",
       "    </tr>\n",
       "    <tr>\n",
       "      <th>2</th>\n",
       "      <td>0.322639</td>\n",
       "      <td>0.324273</td>\n",
       "      <td>0.047871</td>\n",
       "      <td>0.043862</td>\n",
       "      <td>0.324102</td>\n",
       "    </tr>\n",
       "    <tr>\n",
       "      <th>3</th>\n",
       "      <td>0.321780</td>\n",
       "      <td>0.324378</td>\n",
       "      <td>0.029778</td>\n",
       "      <td>0.027247</td>\n",
       "      <td>0.321330</td>\n",
       "    </tr>\n",
       "    <tr>\n",
       "      <th>4</th>\n",
       "      <td>0.321508</td>\n",
       "      <td>0.325361</td>\n",
       "      <td>0.021213</td>\n",
       "      <td>0.019434</td>\n",
       "      <td>0.325019</td>\n",
       "    </tr>\n",
       "    <tr>\n",
       "      <th>...</th>\n",
       "      <td>...</td>\n",
       "      <td>...</td>\n",
       "      <td>...</td>\n",
       "      <td>...</td>\n",
       "      <td>...</td>\n",
       "    </tr>\n",
       "    <tr>\n",
       "      <th>60</th>\n",
       "      <td>0.328921</td>\n",
       "      <td>0.330358</td>\n",
       "      <td>0.010063</td>\n",
       "      <td>0.009276</td>\n",
       "      <td>0.332187</td>\n",
       "    </tr>\n",
       "    <tr>\n",
       "      <th>61</th>\n",
       "      <td>0.326387</td>\n",
       "      <td>0.328246</td>\n",
       "      <td>0.009539</td>\n",
       "      <td>0.008766</td>\n",
       "      <td>0.328228</td>\n",
       "    </tr>\n",
       "    <tr>\n",
       "      <th>62</th>\n",
       "      <td>0.323728</td>\n",
       "      <td>0.326678</td>\n",
       "      <td>0.019185</td>\n",
       "      <td>0.017595</td>\n",
       "      <td>0.325581</td>\n",
       "    </tr>\n",
       "    <tr>\n",
       "      <th>63</th>\n",
       "      <td>0.320859</td>\n",
       "      <td>0.322643</td>\n",
       "      <td>0.031128</td>\n",
       "      <td>0.028453</td>\n",
       "      <td>0.323789</td>\n",
       "    </tr>\n",
       "    <tr>\n",
       "      <th>64</th>\n",
       "      <td>0.321445</td>\n",
       "      <td>0.323772</td>\n",
       "      <td>0.015756</td>\n",
       "      <td>0.014421</td>\n",
       "      <td>0.322601</td>\n",
       "    </tr>\n",
       "  </tbody>\n",
       "</table>\n",
       "<p>65 rows × 5 columns</p>\n",
       "</div>"
      ],
      "text/plain": [
       "        high       low    volume     value      open\n",
       "0   0.316356  0.321033  0.037214  0.033930  0.319142\n",
       "1   0.323832  0.322956  0.070930  0.065087  0.319892\n",
       "2   0.322639  0.324273  0.047871  0.043862  0.324102\n",
       "3   0.321780  0.324378  0.029778  0.027247  0.321330\n",
       "4   0.321508  0.325361  0.021213  0.019434  0.325019\n",
       "..       ...       ...       ...       ...       ...\n",
       "60  0.328921  0.330358  0.010063  0.009276  0.332187\n",
       "61  0.326387  0.328246  0.009539  0.008766  0.328228\n",
       "62  0.323728  0.326678  0.019185  0.017595  0.325581\n",
       "63  0.320859  0.322643  0.031128  0.028453  0.323789\n",
       "64  0.321445  0.323772  0.015756  0.014421  0.322601\n",
       "\n",
       "[65 rows x 5 columns]"
      ]
     },
     "execution_count": 9,
     "metadata": {},
     "output_type": "execute_result"
    }
   ],
   "source": [
    "pd.concat([x_train, y_train], axis=1).head(65)"
   ]
  },
  {
   "cell_type": "code",
   "execution_count": 10,
   "id": "711e52c8",
   "metadata": {},
   "outputs": [],
   "source": [
    "WINDOW_SIZE = 60\n",
    "BATCH_SIZE = 20\n",
    "\n",
    "# ds_x = tf.data.Dataset.from_tensor_slices(x_train)\n",
    "# ds_x = ds_x.window(WINDOW_SIZE, stride=1, shift=1, drop_remainder=True)\n",
    "# ds_x = ds_x.flat_map(lambda x: x.batch(WINDOW_SIZE))\n",
    "\n",
    "# pd.concat([ds_x]).head(5)"
   ]
  },
  {
   "cell_type": "code",
   "execution_count": 12,
   "id": "bf271eb9",
   "metadata": {},
   "outputs": [],
   "source": [
    "# ds_y = tf.data.Dataset.from_tensor_slices(y_train[WINDOW_SIZE:])\n",
    "\n",
    "# pd.concat([ds_y],axis=1).head(5)"
   ]
  },
  {
   "cell_type": "code",
   "execution_count": 13,
   "id": "1143b976",
   "metadata": {},
   "outputs": [],
   "source": [
    "# train_data = tf.data.Dataset.zip((ds_x, ds_y)).batch(32)"
   ]
  },
  {
   "cell_type": "code",
   "execution_count": 11,
   "id": "e11621b0",
   "metadata": {},
   "outputs": [],
   "source": [
    "#슬라이딩 윈도우를 만드는 함수\n",
    "\n",
    "def windowed_dataset(x, y, window_size, batch_size, shuffle):\n",
    "#     series = tf.expand_dims(x, axis=-1)\n",
    "    ds_x = tf.data.Dataset.from_tensor_slices(x)\n",
    "    ds_x = ds_x.window(WINDOW_SIZE, stride=1, shift=1, drop_remainder=True)\n",
    "    ds_x = ds_x.flat_map(lambda x: x.batch(WINDOW_SIZE))\n",
    "    \n",
    "    ds_y = tf.data.Dataset.from_tensor_slices(y[WINDOW_SIZE:])\n",
    "\n",
    "    ds = tf.data.Dataset.zip((ds_x, ds_y))\n",
    "    \n",
    "    if shuffle:\n",
    "        ds = ds.shuffle(1000)\n",
    "    return ds.batch(batch_size).prefetch(1)"
   ]
  },
  {
   "cell_type": "code",
   "execution_count": 12,
   "id": "b6be78c8",
   "metadata": {},
   "outputs": [],
   "source": [
    "train_data = windowed_dataset(x_train, y_train, WINDOW_SIZE, BATCH_SIZE, True)\n",
    "test_data = windowed_dataset(x_test, y_test, WINDOW_SIZE, BATCH_SIZE, False)"
   ]
  },
  {
   "cell_type": "code",
   "execution_count": 14,
   "id": "207b45bb",
   "metadata": {
    "scrolled": true
   },
   "outputs": [
    {
     "name": "stdout",
     "output_type": "stream",
     "text": [
      "train_data : (20, 60, 4)\n",
      "tf.Tensor(\n",
      "[[[0.13271204 0.1362534  0.04604773 0.03449157]\n",
      "  [0.1306178  0.13644156 0.05336664 0.03991881]\n",
      "  [0.13015707 0.13600251 0.03274281 0.02447444]\n",
      "  ...\n",
      "  [0.16251309 0.16443655 0.09435639 0.07309946]\n",
      "  [0.16452356 0.16725904 0.10818397 0.08404956]\n",
      "  [0.16190576 0.16617186 0.07237401 0.05606939]]\n",
      "\n",
      " [[0.1306178  0.13644156 0.05336664 0.03991881]\n",
      "  [0.13015707 0.13600251 0.03274281 0.02447444]\n",
      "  [0.13310995 0.13602342 0.02966138 0.02219537]\n",
      "  ...\n",
      "  [0.16452356 0.16725904 0.10818397 0.08404956]\n",
      "  [0.16190576 0.16617186 0.07237401 0.05606939]\n",
      "  [0.16224084 0.16780263 0.04180316 0.03243919]]\n",
      "\n",
      " [[0.13015707 0.13600251 0.03274281 0.02447444]\n",
      "  [0.13310995 0.13602342 0.02966138 0.02219537]\n",
      "  [0.13472251 0.13884591 0.0526783  0.03956696]\n",
      "  ...\n",
      "  [0.16190576 0.16617186 0.07237401 0.05606939]\n",
      "  [0.16224084 0.16780263 0.04180316 0.03243919]\n",
      "  [0.16224084 0.16621367 0.06264728 0.04857879]]\n",
      "\n",
      " ...\n",
      "\n",
      " [[0.13729843 0.14263015 0.0241232  0.01818173]\n",
      "  [0.14617801 0.14350826 0.29663487 0.22543566]\n",
      "  [0.14722513 0.15151579 0.10220458 0.07790453]\n",
      "  ...\n",
      "  [0.15928796 0.16460381 0.04405694 0.03405966]\n",
      "  [0.15943455 0.16454108 0.02603627 0.02012572]\n",
      "  [0.15784293 0.16167677 0.05532561 0.04266711]]\n",
      "\n",
      " [[0.14617801 0.14350826 0.29663487 0.22543566]\n",
      "  [0.14722513 0.15151579 0.10220458 0.07790453]\n",
      "  [0.14682723 0.15051223 0.09030067 0.06874951]\n",
      "  ...\n",
      "  [0.15943455 0.16454108 0.02603627 0.02012572]\n",
      "  [0.15784293 0.16167677 0.05532561 0.04266711]\n",
      "  [0.15627225 0.16155133 0.02709916 0.02087825]]\n",
      "\n",
      " [[0.14722513 0.15151579 0.10220458 0.07790453]\n",
      "  [0.14682723 0.15051223 0.09030067 0.06874951]\n",
      "  [0.14649215 0.15078403 0.04208778 0.03206087]\n",
      "  ...\n",
      "  [0.15784293 0.16167677 0.05532561 0.04266711]\n",
      "  [0.15627225 0.16155133 0.02709916 0.02087825]\n",
      "  [0.1561466  0.16234581 0.02380311 0.0183443 ]]], shape=(20, 60, 4), dtype=float64)\n",
      "test_data : (20,)\n",
      "tf.Tensor(\n",
      "[0.16543719 0.16631241 0.16468701 0.16047762 0.16339502 0.16260315\n",
      " 0.16487455 0.1670626  0.16531216 0.16470784 0.16464533 0.16281154\n",
      " 0.16066517 0.15943569 0.16274902 0.16320747 0.16216554 0.1598733\n",
      " 0.15985246 0.15978995], shape=(20,), dtype=float64)\n"
     ]
    }
   ],
   "source": [
    "for data in test_data.take(1):\n",
    "    print(f\"train_data : {data[0].shape}\")\n",
    "    print(data[0])\n",
    "    print(f\"test_data : {data[1].shape}\")    \n",
    "    print(data[1])"
   ]
  },
  {
   "cell_type": "code",
   "execution_count": 15,
   "id": "76b4d216",
   "metadata": {
    "scrolled": true
   },
   "outputs": [
    {
     "name": "stdout",
     "output_type": "stream",
     "text": [
      "Epoch 1/50\n",
      "1997/1997 [==============================] - 54s 26ms/step - loss: 4.2801e-04 - val_loss: 1.1173e-05\n",
      "Epoch 2/50\n",
      "1997/1997 [==============================] - 45s 23ms/step - loss: 4.0717e-05 - val_loss: 7.7531e-06\n",
      "Epoch 3/50\n",
      "1997/1997 [==============================] - 58s 29ms/step - loss: 2.8704e-05 - val_loss: 4.2728e-06\n",
      "Epoch 4/50\n",
      "1997/1997 [==============================] - 49s 25ms/step - loss: 2.3022e-05 - val_loss: 2.7308e-06\n",
      "Epoch 5/50\n",
      "1997/1997 [==============================] - 50s 25ms/step - loss: 1.9404e-05 - val_loss: 2.7989e-06\n",
      "Epoch 6/50\n",
      "1997/1997 [==============================] - 49s 25ms/step - loss: 1.4469e-05 - val_loss: 2.3072e-06\n",
      "Epoch 7/50\n",
      "1997/1997 [==============================] - 49s 25ms/step - loss: 1.2089e-05 - val_loss: 1.3905e-06\n",
      "Epoch 8/50\n",
      "1997/1997 [==============================] - 50s 25ms/step - loss: 1.1103e-05 - val_loss: 2.9456e-06\n",
      "Epoch 9/50\n",
      "1997/1997 [==============================] - 50s 25ms/step - loss: 1.0280e-05 - val_loss: 1.7405e-06\n",
      "Epoch 10/50\n",
      "1997/1997 [==============================] - 50s 25ms/step - loss: 9.3587e-06 - val_loss: 1.2274e-06\n",
      "Epoch 11/50\n",
      "1997/1997 [==============================] - 50s 25ms/step - loss: 9.2144e-06 - val_loss: 1.6056e-06\n",
      "Epoch 12/50\n",
      "1997/1997 [==============================] - 50s 25ms/step - loss: 8.7744e-06 - val_loss: 2.1025e-06\n",
      "Epoch 13/50\n",
      "1997/1997 [==============================] - 50s 25ms/step - loss: 8.2731e-06 - val_loss: 1.2285e-06\n",
      "Epoch 14/50\n",
      "1997/1997 [==============================] - 50s 25ms/step - loss: 8.2266e-06 - val_loss: 8.5506e-07\n",
      "Epoch 15/50\n",
      "1997/1997 [==============================] - 50s 25ms/step - loss: 8.2650e-06 - val_loss: 1.3306e-06\n",
      "Epoch 16/50\n",
      "1997/1997 [==============================] - 50s 25ms/step - loss: 7.5749e-06 - val_loss: 1.0821e-06\n",
      "Epoch 17/50\n",
      "1997/1997 [==============================] - 50s 25ms/step - loss: 8.3596e-06 - val_loss: 3.5396e-06\n",
      "Epoch 18/50\n",
      "1997/1997 [==============================] - 53s 26ms/step - loss: 8.4369e-06 - val_loss: 1.5109e-06\n",
      "Epoch 19/50\n",
      "1997/1997 [==============================] - 50s 25ms/step - loss: 7.3415e-06 - val_loss: 3.1274e-06\n",
      "Epoch 20/50\n",
      "1997/1997 [==============================] - 50s 25ms/step - loss: 7.6446e-06 - val_loss: 1.8197e-06\n",
      "Epoch 21/50\n",
      "1997/1997 [==============================] - 51s 25ms/step - loss: 7.2794e-06 - val_loss: 2.2263e-06\n",
      "Epoch 22/50\n",
      "1997/1997 [==============================] - 61s 31ms/step - loss: 7.4253e-06 - val_loss: 3.2032e-06\n",
      "Epoch 23/50\n",
      "1997/1997 [==============================] - 52s 26ms/step - loss: 6.9550e-06 - val_loss: 1.7393e-06\n",
      "Epoch 24/50\n",
      "1997/1997 [==============================] - 51s 26ms/step - loss: 7.1181e-06 - val_loss: 1.8159e-06\n",
      "Epoch 25/50\n",
      "1997/1997 [==============================] - 51s 26ms/step - loss: 7.3267e-06 - val_loss: 2.0414e-06\n",
      "Epoch 26/50\n",
      "1997/1997 [==============================] - 52s 26ms/step - loss: 7.3734e-06 - val_loss: 2.0681e-06\n",
      "Epoch 27/50\n",
      "1997/1997 [==============================] - 52s 26ms/step - loss: 6.7464e-06 - val_loss: 3.0223e-06\n",
      "Epoch 28/50\n",
      "1997/1997 [==============================] - 52s 26ms/step - loss: 7.2944e-06 - val_loss: 1.7873e-06\n",
      "Epoch 29/50\n",
      "1997/1997 [==============================] - 52s 26ms/step - loss: 6.5240e-06 - val_loss: 1.2931e-06\n",
      "Epoch 30/50\n",
      "1997/1997 [==============================] - 58s 29ms/step - loss: 6.8814e-06 - val_loss: 5.5656e-06\n",
      "Epoch 31/50\n",
      "1997/1997 [==============================] - 56s 28ms/step - loss: 7.1707e-06 - val_loss: 1.3730e-06\n",
      "Epoch 32/50\n",
      "1997/1997 [==============================] - 58s 29ms/step - loss: 5.9537e-06 - val_loss: 1.1294e-06\n",
      "Epoch 33/50\n",
      "1997/1997 [==============================] - 59s 29ms/step - loss: 6.4858e-06 - val_loss: 1.7685e-06\n",
      "Epoch 34/50\n",
      "1997/1997 [==============================] - 57s 28ms/step - loss: 6.6030e-06 - val_loss: 1.5812e-06\n",
      "Epoch 35/50\n",
      "1997/1997 [==============================] - 57s 29ms/step - loss: 6.4822e-06 - val_loss: 1.6407e-06\n",
      "Epoch 36/50\n",
      "1997/1997 [==============================] - 60s 30ms/step - loss: 6.9733e-06 - val_loss: 1.1453e-06\n",
      "Epoch 37/50\n",
      "1997/1997 [==============================] - 73s 36ms/step - loss: 6.6752e-06 - val_loss: 1.3016e-06\n",
      "Epoch 38/50\n",
      "1997/1997 [==============================] - 62s 31ms/step - loss: 6.3993e-06 - val_loss: 1.8512e-06\n",
      "Epoch 39/50\n",
      "1997/1997 [==============================] - 60s 30ms/step - loss: 6.5786e-06 - val_loss: 2.4557e-06\n",
      "Epoch 40/50\n",
      "1997/1997 [==============================] - 54s 27ms/step - loss: 6.4541e-06 - val_loss: 2.1652e-06\n",
      "Epoch 41/50\n",
      "1997/1997 [==============================] - 57s 28ms/step - loss: 6.1137e-06 - val_loss: 1.8582e-06\n",
      "Epoch 42/50\n",
      "1997/1997 [==============================] - 55s 27ms/step - loss: 6.3346e-06 - val_loss: 1.4638e-06\n",
      "Epoch 43/50\n",
      "1997/1997 [==============================] - 59s 30ms/step - loss: 5.8679e-06 - val_loss: 1.5688e-06\n",
      "Epoch 44/50\n",
      "1997/1997 [==============================] - 61s 30ms/step - loss: 6.1465e-06 - val_loss: 9.3306e-07\n",
      "Epoch 45/50\n",
      "1997/1997 [==============================] - 55s 28ms/step - loss: 5.8723e-06 - val_loss: 2.6533e-06\n",
      "Epoch 46/50\n",
      "1997/1997 [==============================] - 65s 33ms/step - loss: 6.1727e-06 - val_loss: 7.9506e-07\n",
      "Epoch 47/50\n",
      "1997/1997 [==============================] - 60s 30ms/step - loss: 6.1539e-06 - val_loss: 1.1379e-06\n",
      "Epoch 48/50\n",
      "1997/1997 [==============================] - 57s 29ms/step - loss: 5.9894e-06 - val_loss: 1.5646e-06\n",
      "Epoch 49/50\n",
      "1997/1997 [==============================] - 58s 29ms/step - loss: 6.0682e-06 - val_loss: 9.9723e-07\n",
      "Epoch 50/50\n",
      "1997/1997 [==============================] - 57s 28ms/step - loss: 6.1871e-06 - val_loss: 1.0094e-06\n"
     ]
    }
   ],
   "source": [
    "from tensorflow.keras.layers import Conv1D\n",
    "model = Sequential([\n",
    "    # 1차원 feature map 생성\n",
    "    Conv1D(filters=64, kernel_size=5,\n",
    "           padding=\"causal\",\n",
    "           activation=\"relu\",\n",
    "           input_shape=[WINDOW_SIZE, 4]),\n",
    "    # LSTM\n",
    "    LSTM(32, activation='tanh'),\n",
    "    Dense(32, activation=\"relu\"),\n",
    "    Dense(1),\n",
    "])\n",
    "\n",
    "model.compile(loss='mean_squared_error', optimizer='adam')\n",
    "\n",
    "history = model.fit(train_data,\n",
    "                    validation_data=(test_data), \n",
    "                    epochs=50, \n",
    "#                     callbacks=[early_stop, checkpoint]\n",
    "                   )"
   ]
  },
  {
   "cell_type": "code",
   "execution_count": 16,
   "id": "613b8709",
   "metadata": {},
   "outputs": [
    {
     "data": {
      "image/png": "[encoded data removed]",
      "text/plain": [
       "<Figure size 1120x480 with 1 Axes>"
      ]
     },
     "metadata": {
      "needs_background": "light"
     },
     "output_type": "display_data"
    }
   ],
   "source": [
    "# plot the training losses\n",
    "fig, ax = plt.subplots(figsize=(14, 6), dpi=80)\n",
    "ax.plot(history.history['loss'], 'b', label='Train', linewidth=2)\n",
    "ax.plot(history.history['val_loss'], 'r', label='Validation', linewidth=2)\n",
    "ax.set_title('Model loss', fontsize=16)\n",
    "ax.set_ylabel('Loss (mae)')\n",
    "ax.set_xlabel('Epoch')\n",
    "ax.legend(loc='upper right')\n",
    "plt.show()"
   ]
  },
  {
   "cell_type": "code",
   "execution_count": 17,
   "id": "feccec58",
   "metadata": {},
   "outputs": [
    {
     "name": "stdout",
     "output_type": "stream",
     "text": [
      "[[0.16344774]\n",
      " [0.16610558]\n",
      " [0.16433644]\n",
      " ...\n",
      " [0.22024825]\n",
      " [0.2203525 ]\n",
      " [0.22418526]]\n",
      "(9940, 1)\n"
     ]
    },
    {
     "data": {
      "image/png": "[encoded data removed]",
      "text/plain": [
       "<Figure size 864x648 with 1 Axes>"
      ]
     },
     "metadata": {
      "needs_background": "light"
     },
     "output_type": "display_data"
    }
   ],
   "source": [
    "pred = model.predict(test_data)\n",
    "print(pred)\n",
    "print(pred.shape)\n",
    "\n",
    "plt.figure(figsize=(12, 9))\n",
    "plt.plot(np.asarray(y_test)[WINDOW_SIZE:], label='actual')\n",
    "plt.plot(pred, label='prediction')\n",
    "plt.legend()\n",
    "plt.show()"
   ]
  },
  {
   "cell_type": "code",
   "execution_count": 18,
   "id": "af5eed29",
   "metadata": {},
   "outputs": [],
   "source": [
    "model.save(\"model_0803_60_50000_epochs50.h5\")"
   ]
  },
  {
   "cell_type": "code",
   "execution_count": 38,
   "id": "7c909934",
   "metadata": {},
   "outputs": [
    {
     "ename": "IndexError",
     "evalue": "index 9940 is out of bounds for axis 0 with size 9940",
     "output_type": "error",
     "traceback": [
      "\u001b[0;31m---------------------------------------------------------------------------\u001b[0m",
      "\u001b[0;31mIndexError\u001b[0m                                Traceback (most recent call last)",
      "\u001b[0;32m<ipython-input-38-d106f3359d99>\u001b[0m in \u001b[0;36m<module>\u001b[0;34m\u001b[0m\n\u001b[1;32m     13\u001b[0m \u001b[0;31m#     submission[:, start_ : start_ + output_window, :] = next_\u001b[0m\u001b[0;34m\u001b[0m\u001b[0;34m\u001b[0m\u001b[0;34m\u001b[0m\u001b[0m\n\u001b[1;32m     14\u001b[0m \u001b[0;34m\u001b[0m\u001b[0m\n\u001b[0;32m---> 15\u001b[0;31m \u001b[0mprint\u001b[0m\u001b[0;34m(\u001b[0m\u001b[0mpred\u001b[0m\u001b[0;34m[\u001b[0m\u001b[0;36m9940\u001b[0m\u001b[0;34m]\u001b[0m\u001b[0;34m)\u001b[0m\u001b[0;34m\u001b[0m\u001b[0;34m\u001b[0m\u001b[0m\n\u001b[0m",
      "\u001b[0;31mIndexError\u001b[0m: index 9940 is out of bounds for axis 0 with size 9940"
     ]
    }
   ],
   "source": [
    "# auto_x = test_feature\n",
    "\n",
    "# end_=576\n",
    "# output_window = 288\n",
    "\n",
    "# submission = np.zeros((980, 20, 5))\n",
    "\n",
    "# for i in range(end_//output_window):\n",
    "#     start_ = i *output_window\n",
    "#     next_ = model.predict(auto_x)\n",
    "#     auto_x=tf.concat([auto_x, next_], axis=1)\n",
    "#     print(auto_x.shape)\n",
    "#     submission[:, start_ : start_ + output_window, :] = next_\n",
    "\n",
    "print(pred[9940])"
   ]
  },
  {
   "cell_type": "code",
   "execution_count": null,
   "id": "34331503",
   "metadata": {},
   "outputs": [],
   "source": []
  }
 ],
 "metadata": {
  "kernelspec": {
   "display_name": "Python 3",
   "language": "python",
   "name": "python3"
  },
  "language_info": {
   "codemirror_mode": {
    "name": "ipython",
    "version": 3
   },
   "file_extension": ".py",
   "mimetype": "text/x-python",
   "name": "python",
   "nbconvert_exporter": "python",
   "pygments_lexer": "ipython3",
   "version": "3.8.8"
  }
 },
 "nbformat": 4,
 "nbformat_minor": 5
}
